{
 "cells": [
  {
   "cell_type": "code",
   "execution_count": 1,
   "metadata": {},
   "outputs": [],
   "source": [
    "import numpy as np \n",
    "import pandas as pd \n",
    "import matplotlib.pyplot as plt\n",
    "import tensorflow as tf \n",
    "from tensorflow.keras import models,layers"
   ]
  },
  {
   "cell_type": "markdown",
   "metadata": {},
   "source": [
    "一，准备数据"
   ]
  },
  {
   "cell_type": "code",
   "execution_count": 2,
   "metadata": {},
   "outputs": [
    {
     "data": {
      "text/html": [
       "<div>\n",
       "<style scoped>\n",
       "    .dataframe tbody tr th:only-of-type {\n",
       "        vertical-align: middle;\n",
       "    }\n",
       "\n",
       "    .dataframe tbody tr th {\n",
       "        vertical-align: top;\n",
       "    }\n",
       "\n",
       "    .dataframe thead th {\n",
       "        text-align: right;\n",
       "    }\n",
       "</style>\n",
       "<table border=\"1\" class=\"dataframe\">\n",
       "  <thead>\n",
       "    <tr style=\"text-align: right;\">\n",
       "      <th></th>\n",
       "      <th>PassengerId</th>\n",
       "      <th>Survived</th>\n",
       "      <th>Pclass</th>\n",
       "      <th>Name</th>\n",
       "      <th>Sex</th>\n",
       "      <th>Age</th>\n",
       "      <th>SibSp</th>\n",
       "      <th>Parch</th>\n",
       "      <th>Ticket</th>\n",
       "      <th>Fare</th>\n",
       "      <th>Cabin</th>\n",
       "      <th>Embarked</th>\n",
       "    </tr>\n",
       "  </thead>\n",
       "  <tbody>\n",
       "    <tr>\n",
       "      <th>0</th>\n",
       "      <td>493</td>\n",
       "      <td>0</td>\n",
       "      <td>1</td>\n",
       "      <td>Molson, Mr. Harry Markland</td>\n",
       "      <td>male</td>\n",
       "      <td>55.0</td>\n",
       "      <td>0</td>\n",
       "      <td>0</td>\n",
       "      <td>113787</td>\n",
       "      <td>30.5000</td>\n",
       "      <td>C30</td>\n",
       "      <td>S</td>\n",
       "    </tr>\n",
       "    <tr>\n",
       "      <th>1</th>\n",
       "      <td>53</td>\n",
       "      <td>1</td>\n",
       "      <td>1</td>\n",
       "      <td>Harper, Mrs. Henry Sleeper (Myna Haxtun)</td>\n",
       "      <td>female</td>\n",
       "      <td>49.0</td>\n",
       "      <td>1</td>\n",
       "      <td>0</td>\n",
       "      <td>PC 17572</td>\n",
       "      <td>76.7292</td>\n",
       "      <td>D33</td>\n",
       "      <td>C</td>\n",
       "    </tr>\n",
       "    <tr>\n",
       "      <th>2</th>\n",
       "      <td>388</td>\n",
       "      <td>1</td>\n",
       "      <td>2</td>\n",
       "      <td>Buss, Miss. Kate</td>\n",
       "      <td>female</td>\n",
       "      <td>36.0</td>\n",
       "      <td>0</td>\n",
       "      <td>0</td>\n",
       "      <td>27849</td>\n",
       "      <td>13.0000</td>\n",
       "      <td>NaN</td>\n",
       "      <td>S</td>\n",
       "    </tr>\n",
       "    <tr>\n",
       "      <th>3</th>\n",
       "      <td>192</td>\n",
       "      <td>0</td>\n",
       "      <td>2</td>\n",
       "      <td>Carbines, Mr. William</td>\n",
       "      <td>male</td>\n",
       "      <td>19.0</td>\n",
       "      <td>0</td>\n",
       "      <td>0</td>\n",
       "      <td>28424</td>\n",
       "      <td>13.0000</td>\n",
       "      <td>NaN</td>\n",
       "      <td>S</td>\n",
       "    </tr>\n",
       "    <tr>\n",
       "      <th>4</th>\n",
       "      <td>687</td>\n",
       "      <td>0</td>\n",
       "      <td>3</td>\n",
       "      <td>Panula, Mr. Jaako Arnold</td>\n",
       "      <td>male</td>\n",
       "      <td>14.0</td>\n",
       "      <td>4</td>\n",
       "      <td>1</td>\n",
       "      <td>3101295</td>\n",
       "      <td>39.6875</td>\n",
       "      <td>NaN</td>\n",
       "      <td>S</td>\n",
       "    </tr>\n",
       "    <tr>\n",
       "      <th>5</th>\n",
       "      <td>16</td>\n",
       "      <td>1</td>\n",
       "      <td>2</td>\n",
       "      <td>Hewlett, Mrs. (Mary D Kingcome)</td>\n",
       "      <td>female</td>\n",
       "      <td>55.0</td>\n",
       "      <td>0</td>\n",
       "      <td>0</td>\n",
       "      <td>248706</td>\n",
       "      <td>16.0000</td>\n",
       "      <td>NaN</td>\n",
       "      <td>S</td>\n",
       "    </tr>\n",
       "    <tr>\n",
       "      <th>6</th>\n",
       "      <td>228</td>\n",
       "      <td>0</td>\n",
       "      <td>3</td>\n",
       "      <td>Lovell, Mr. John Hall (\"Henry\")</td>\n",
       "      <td>male</td>\n",
       "      <td>20.5</td>\n",
       "      <td>0</td>\n",
       "      <td>0</td>\n",
       "      <td>A/5 21173</td>\n",
       "      <td>7.2500</td>\n",
       "      <td>NaN</td>\n",
       "      <td>S</td>\n",
       "    </tr>\n",
       "    <tr>\n",
       "      <th>7</th>\n",
       "      <td>884</td>\n",
       "      <td>0</td>\n",
       "      <td>2</td>\n",
       "      <td>Banfield, Mr. Frederick James</td>\n",
       "      <td>male</td>\n",
       "      <td>28.0</td>\n",
       "      <td>0</td>\n",
       "      <td>0</td>\n",
       "      <td>C.A./SOTON 34068</td>\n",
       "      <td>10.5000</td>\n",
       "      <td>NaN</td>\n",
       "      <td>S</td>\n",
       "    </tr>\n",
       "    <tr>\n",
       "      <th>8</th>\n",
       "      <td>168</td>\n",
       "      <td>0</td>\n",
       "      <td>3</td>\n",
       "      <td>Skoog, Mrs. William (Anna Bernhardina Karlsson)</td>\n",
       "      <td>female</td>\n",
       "      <td>45.0</td>\n",
       "      <td>1</td>\n",
       "      <td>4</td>\n",
       "      <td>347088</td>\n",
       "      <td>27.9000</td>\n",
       "      <td>NaN</td>\n",
       "      <td>S</td>\n",
       "    </tr>\n",
       "    <tr>\n",
       "      <th>9</th>\n",
       "      <td>752</td>\n",
       "      <td>1</td>\n",
       "      <td>3</td>\n",
       "      <td>Moor, Master. Meier</td>\n",
       "      <td>male</td>\n",
       "      <td>6.0</td>\n",
       "      <td>0</td>\n",
       "      <td>1</td>\n",
       "      <td>392096</td>\n",
       "      <td>12.4750</td>\n",
       "      <td>E121</td>\n",
       "      <td>S</td>\n",
       "    </tr>\n",
       "  </tbody>\n",
       "</table>\n",
       "</div>"
      ],
      "text/plain": [
       "   PassengerId  Survived  Pclass  \\\n",
       "0          493         0       1   \n",
       "1           53         1       1   \n",
       "2          388         1       2   \n",
       "3          192         0       2   \n",
       "4          687         0       3   \n",
       "5           16         1       2   \n",
       "6          228         0       3   \n",
       "7          884         0       2   \n",
       "8          168         0       3   \n",
       "9          752         1       3   \n",
       "\n",
       "                                              Name     Sex   Age  SibSp  \\\n",
       "0                       Molson, Mr. Harry Markland    male  55.0      0   \n",
       "1         Harper, Mrs. Henry Sleeper (Myna Haxtun)  female  49.0      1   \n",
       "2                                 Buss, Miss. Kate  female  36.0      0   \n",
       "3                            Carbines, Mr. William    male  19.0      0   \n",
       "4                         Panula, Mr. Jaako Arnold    male  14.0      4   \n",
       "5                 Hewlett, Mrs. (Mary D Kingcome)   female  55.0      0   \n",
       "6                  Lovell, Mr. John Hall (\"Henry\")    male  20.5      0   \n",
       "7                    Banfield, Mr. Frederick James    male  28.0      0   \n",
       "8  Skoog, Mrs. William (Anna Bernhardina Karlsson)  female  45.0      1   \n",
       "9                              Moor, Master. Meier    male   6.0      0   \n",
       "\n",
       "   Parch            Ticket     Fare Cabin Embarked  \n",
       "0      0            113787  30.5000   C30        S  \n",
       "1      0          PC 17572  76.7292   D33        C  \n",
       "2      0             27849  13.0000   NaN        S  \n",
       "3      0             28424  13.0000   NaN        S  \n",
       "4      1           3101295  39.6875   NaN        S  \n",
       "5      0            248706  16.0000   NaN        S  \n",
       "6      0         A/5 21173   7.2500   NaN        S  \n",
       "7      0  C.A./SOTON 34068  10.5000   NaN        S  \n",
       "8      4            347088  27.9000   NaN        S  \n",
       "9      1            392096  12.4750  E121        S  "
      ]
     },
     "execution_count": 2,
     "metadata": {},
     "output_type": "execute_result"
    }
   ],
   "source": [
    "dftrain_raw = pd.read_csv('./data/titanic/train.csv')\n",
    "dftest_raw = pd.read_csv('./data/titanic/test.csv')\n",
    "dftrain_raw.head(10)"
   ]
  },
  {
   "cell_type": "markdown",
   "metadata": {},
   "source": [
    "Survived:0代表死亡，1代表存活【y标签】\n",
    "\n",
    "Pclass:乘客所持票类，有三种值(1,2,3) 【转换成onehot编码】\n",
    "\n",
    "Name:乘客姓名 【舍去】\n",
    "\n",
    "Sex:乘客性别 【转换成bool特征】\n",
    "\n",
    "Age:乘客年龄(有缺失) 【数值特征，添加“年龄是否缺失”作为辅助特征】\n",
    "\n",
    "SibSp:乘客兄弟姐妹/配偶的个数(整数值) 【数值特征】\n",
    "\n",
    "Parch:乘客父母/孩子的个数(整数值)【数值特征】\n",
    "\n",
    "Ticket:票号(字符串)【舍去】\n",
    "\n",
    "Fare:乘客所持票的价格(浮点数，0-500不等) 【数值特征】\n",
    "\n",
    "Cabin:乘客所在船舱(有缺失) 【添加“所在船舱是否缺失”作为辅助特征】\n",
    "\n",
    "Embarked:乘客登船港口:S、C、Q(有缺失)【转换成onehot编码，四维度 S,C,Q,nan】"
   ]
  },
  {
   "cell_type": "markdown",
   "metadata": {},
   "source": [
    "Survived分布情况"
   ]
  },
  {
   "cell_type": "code",
   "execution_count": 3,
   "metadata": {},
   "outputs": [
    {
     "data": {
      "image/png": "[encoded data removed]",
      "text/plain": [
       "<Figure size 864x576 with 1 Axes>"
      ]
     },
     "metadata": {
      "needs_background": "light"
     },
     "output_type": "display_data"
    }
   ],
   "source": [
    "%matplotlib inline\n",
    "%config InlineBackend.figure_format = 'png'\n",
    "ax = dftrain_raw['Survived'].value_counts().plot(kind = 'bar',\n",
    "     figsize = (12,8),fontsize=15,rot = 0)\n",
    "ax.set_ylabel('Counts',fontsize = 15)\n",
    "ax.set_xlabel('Survived',fontsize = 15)\n",
    "plt.show()"
   ]
  },
  {
   "cell_type": "markdown",
   "metadata": {},
   "source": [
    "年龄分布情况"
   ]
  },
  {
   "cell_type": "code",
   "execution_count": 4,
   "metadata": {},
   "outputs": [
    {
     "data": {
      "image/png": "[encoded data removed]",
      "text/plain": [
       "<Figure size 864x576 with 1 Axes>"
      ]
     },
     "metadata": {
      "needs_background": "light"
     },
     "output_type": "display_data"
    }
   ],
   "source": [
    "ax = dftrain_raw['Age'].plot(kind='hist',bins=20,color='purple',\n",
    "                             figsize=(12,8),fontsize=15)\n",
    "ax.set_ylabel('Frequence',fontsize=15)\n",
    "ax.set_xlabel('Age',fontsize=15)\n",
    "plt.show()"
   ]
  },
  {
   "cell_type": "markdown",
   "metadata": {},
   "source": [
    "年龄与Survived相关性"
   ]
  },
  {
   "cell_type": "code",
   "execution_count": 5,
   "metadata": {},
   "outputs": [
    {
     "data": {
      "image/png": "[encoded data removed]",
      "text/plain": [
       "<Figure size 864x576 with 1 Axes>"
      ]
     },
     "metadata": {
      "needs_background": "light"
     },
     "output_type": "display_data"
    }
   ],
   "source": [
    "ax = dftrain_raw.query('Survived==0')['Age'].plot(kind='density',\n",
    "                                                  figsize=(12,8),fontsize=15)\n",
    "dftrain_raw.query('Survived==1')['Age'].plot(kind='density',\n",
    "                                             figsize=(12,8),fontsize=15)\n",
    "ax.legend(['Not Survived','Survived'],fontsize=12)\n",
    "ax.set_ylabel('Density',fontsize=15)\n",
    "ax.set_xlabel('Age',fontsize=15)\n",
    "plt.show()"
   ]
  },
  {
   "cell_type": "markdown",
   "metadata": {},
   "source": [
    "下面为正式的数据预处理"
   ]
  },
  {
   "cell_type": "code",
   "execution_count": 6,
   "metadata": {},
   "outputs": [],
   "source": [
    "def preprocessing(dfdata):\n",
    "\n",
    "    dfresult= pd.DataFrame() # 整理进dfresult中\n",
    "\n",
    "    #Pclass\n",
    "    dfPclass = pd.get_dummies(dfdata['Pclass'])\n",
    "    dfPclass.columns = ['Pclass_' +str(x) for x in dfPclass.columns ]\n",
    "    dfresult = pd.concat([dfresult,dfPclass],axis = 1)\n",
    "\n",
    "    #Sex\n",
    "    dfSex = pd.get_dummies(dfdata['Sex'])\n",
    "    dfresult = pd.concat([dfresult,dfSex],axis = 1)\n",
    "\n",
    "    #Age\n",
    "    dfresult['Age'] = dfdata['Age'].fillna(0)\n",
    "    dfresult['Age_null'] = pd.isna(dfdata['Age']).astype('int32')\n",
    "\n",
    "    #SibSp,Parch,Fare\n",
    "    dfresult['SibSp'] = dfdata['SibSp']\n",
    "    dfresult['Parch'] = dfdata['Parch']\n",
    "    dfresult['Fare'] = dfdata['Fare']\n",
    "\n",
    "    #Carbin\n",
    "    dfresult['Cabin_null'] =  pd.isna(dfdata['Cabin']).astype('int32')\n",
    "\n",
    "    #Embarked\n",
    "    dfEmbarked = pd.get_dummies(dfdata['Embarked'],dummy_na=True)\n",
    "    dfEmbarked.columns = ['Embarked_' + str(x) for x in dfEmbarked.columns]\n",
    "    dfresult = pd.concat([dfresult,dfEmbarked],axis = 1)\n",
    "\n",
    "    return(dfresult)"
   ]
  },
  {
   "cell_type": "code",
   "execution_count": 7,
   "metadata": {},
   "outputs": [
    {
     "name": "stdout",
     "output_type": "stream",
     "text": [
      "x_train.shape = (712, 15)\n",
      "x_test.shape = (179, 15)\n"
     ]
    }
   ],
   "source": [
    "x_train = preprocessing(dftrain_raw)\n",
    "y_train = dftrain_raw['Survived'].values\n",
    "\n",
    "x_test = preprocessing(dftest_raw)\n",
    "y_test = dftest_raw['Survived'].values\n",
    "\n",
    "print(\"x_train.shape =\", x_train.shape )\n",
    "print(\"x_test.shape =\", x_test.shape )"
   ]
  },
  {
   "cell_type": "markdown",
   "metadata": {},
   "source": [
    "二，定义模型"
   ]
  },
  {
   "cell_type": "markdown",
   "metadata": {},
   "source": [
    "使用Keras接口有以下3种方式构建模型：\n",
    "\n",
    "1.使用Sequential按层顺序构建模型\n",
    "\n",
    "2.使用函数式API构建任意结构模型\n",
    "\n",
    "3.继承Model基类构建自定义模型"
   ]
  },
  {
   "cell_type": "code",
   "execution_count": 8,
   "metadata": {},
   "outputs": [
    {
     "name": "stdout",
     "output_type": "stream",
     "text": [
      "Model: \"sequential\"\n",
      "_________________________________________________________________\n",
      "Layer (type)                 Output Shape              Param #   \n",
      "=================================================================\n",
      "dense (Dense)                (None, 20)                320       \n",
      "_________________________________________________________________\n",
      "dense_1 (Dense)              (None, 10)                210       \n",
      "_________________________________________________________________\n",
      "dense_2 (Dense)              (None, 1)                 11        \n",
      "=================================================================\n",
      "Total params: 541\n",
      "Trainable params: 541\n",
      "Non-trainable params: 0\n",
      "_________________________________________________________________\n"
     ]
    }
   ],
   "source": [
    "# 1.\n",
    "tf.keras.backend.clear_session()\n",
    "model = models.Sequential()\n",
    "model.add(layers.Dense(20,activation='relu',input_shape=(15,)))\n",
    "model.add(layers.Dense(10,activation='relu'))\n",
    "model.add(layers.Dense(1,activation='sigmoid'))\n",
    "model.summary()"
   ]
  },
  {
   "cell_type": "markdown",
   "metadata": {},
   "source": [
    "三，训练模型"
   ]
  },
  {
   "cell_type": "markdown",
   "metadata": {},
   "source": [
    "训练模型通常有3种方法:\n",
    "    \n",
    "1.内置fit方法\n",
    "\n",
    "2.内置train_on_batch方法\n",
    "\n",
    "3.以及自定义训练循环"
   ]
  },
  {
   "cell_type": "code",
   "execution_count": 9,
   "metadata": {},
   "outputs": [
    {
     "name": "stdout",
     "output_type": "stream",
     "text": [
      "Train on 569 samples, validate on 143 samples\n",
      "Epoch 1/30\n",
      "569/569 [==============================] - 1s 2ms/sample - loss: 2.0378 - AUC: 0.4527 - val_loss: 1.5981 - val_AUC: 0.4359\n",
      "Epoch 2/30\n",
      "569/569 [==============================] - 0s 72us/sample - loss: 1.3704 - AUC: 0.4425 - val_loss: 1.0529 - val_AUC: 0.4394\n",
      "Epoch 3/30\n",
      "569/569 [==============================] - 0s 51us/sample - loss: 0.8599 - AUC: 0.5192 - val_loss: 0.7683 - val_AUC: 0.5421\n",
      "Epoch 4/30\n",
      "569/569 [==============================] - 0s 54us/sample - loss: 0.6395 - AUC: 0.6633 - val_loss: 0.7426 - val_AUC: 0.6144\n",
      "Epoch 5/30\n",
      "569/569 [==============================] - 0s 51us/sample - loss: 0.6254 - AUC: 0.6922 - val_loss: 0.7548 - val_AUC: 0.6408\n",
      "Epoch 6/30\n",
      "569/569 [==============================] - 0s 54us/sample - loss: 0.6190 - AUC: 0.7026 - val_loss: 0.7314 - val_AUC: 0.6539\n",
      "Epoch 7/30\n",
      "569/569 [==============================] - 0s 53us/sample - loss: 0.6030 - AUC: 0.7137 - val_loss: 0.7047 - val_AUC: 0.6649\n",
      "Epoch 8/30\n",
      "569/569 [==============================] - 0s 51us/sample - loss: 0.5939 - AUC: 0.7251 - val_loss: 0.6869 - val_AUC: 0.6697\n",
      "Epoch 9/30\n",
      "569/569 [==============================] - 0s 53us/sample - loss: 0.5875 - AUC: 0.7396 - val_loss: 0.6761 - val_AUC: 0.6798\n",
      "Epoch 10/30\n",
      "569/569 [==============================] - 0s 53us/sample - loss: 0.5814 - AUC: 0.7478 - val_loss: 0.6710 - val_AUC: 0.6875\n",
      "Epoch 11/30\n",
      "569/569 [==============================] - 0s 53us/sample - loss: 0.5767 - AUC: 0.7559 - val_loss: 0.6698 - val_AUC: 0.6914\n",
      "Epoch 12/30\n",
      "569/569 [==============================] - 0s 54us/sample - loss: 0.5707 - AUC: 0.7597 - val_loss: 0.6668 - val_AUC: 0.6973\n",
      "Epoch 13/30\n",
      "569/569 [==============================] - 0s 54us/sample - loss: 0.5696 - AUC: 0.7662 - val_loss: 0.6630 - val_AUC: 0.7033\n",
      "Epoch 14/30\n",
      "569/569 [==============================] - 0s 56us/sample - loss: 0.5617 - AUC: 0.7760 - val_loss: 0.6574 - val_AUC: 0.7053\n",
      "Epoch 15/30\n",
      "569/569 [==============================] - 0s 54us/sample - loss: 0.5575 - AUC: 0.7846 - val_loss: 0.6548 - val_AUC: 0.7133\n",
      "Epoch 16/30\n",
      "569/569 [==============================] - 0s 53us/sample - loss: 0.5547 - AUC: 0.7874 - val_loss: 0.6502 - val_AUC: 0.7166\n",
      "Epoch 17/30\n",
      "569/569 [==============================] - 0s 53us/sample - loss: 0.5495 - AUC: 0.7926 - val_loss: 0.6462 - val_AUC: 0.7207\n",
      "Epoch 18/30\n",
      "569/569 [==============================] - 0s 51us/sample - loss: 0.5454 - AUC: 0.7960 - val_loss: 0.6444 - val_AUC: 0.7239\n",
      "Epoch 19/30\n",
      "569/569 [==============================] - 0s 53us/sample - loss: 0.5428 - AUC: 0.7983 - val_loss: 0.6416 - val_AUC: 0.7300\n",
      "Epoch 20/30\n",
      "569/569 [==============================] - 0s 54us/sample - loss: 0.5417 - AUC: 0.8031 - val_loss: 0.6376 - val_AUC: 0.7279\n",
      "Epoch 21/30\n",
      "569/569 [==============================] - 0s 54us/sample - loss: 0.5456 - AUC: 0.8031 - val_loss: 0.6391 - val_AUC: 0.7333\n",
      "Epoch 22/30\n",
      "569/569 [==============================] - 0s 53us/sample - loss: 0.5367 - AUC: 0.8149 - val_loss: 0.6297 - val_AUC: 0.7349\n",
      "Epoch 23/30\n",
      "569/569 [==============================] - 0s 54us/sample - loss: 0.5447 - AUC: 0.8066 - val_loss: 0.6316 - val_AUC: 0.7352\n",
      "Epoch 24/30\n",
      "569/569 [==============================] - 0s 52us/sample - loss: 0.5320 - AUC: 0.8204 - val_loss: 0.6277 - val_AUC: 0.7351\n",
      "Epoch 25/30\n",
      "569/569 [==============================] - 0s 65us/sample - loss: 0.5203 - AUC: 0.8228 - val_loss: 0.6255 - val_AUC: 0.7397\n",
      "Epoch 26/30\n",
      "569/569 [==============================] - 0s 58us/sample - loss: 0.5220 - AUC: 0.8307 - val_loss: 0.6224 - val_AUC: 0.7404\n",
      "Epoch 27/30\n",
      "569/569 [==============================] - 0s 56us/sample - loss: 0.5301 - AUC: 0.8228 - val_loss: 0.6250 - val_AUC: 0.7428\n",
      "Epoch 28/30\n",
      "569/569 [==============================] - 0s 56us/sample - loss: 0.5153 - AUC: 0.8357 - val_loss: 0.6190 - val_AUC: 0.7399\n",
      "Epoch 29/30\n",
      "569/569 [==============================] - 0s 56us/sample - loss: 0.5072 - AUC: 0.8346 - val_loss: 0.6167 - val_AUC: 0.7427\n",
      "Epoch 30/30\n",
      "569/569 [==============================] - 0s 53us/sample - loss: 0.5037 - AUC: 0.8398 - val_loss: 0.6142 - val_AUC: 0.7390\n"
     ]
    }
   ],
   "source": [
    "# 二分类问题选择二元交叉熵损失函数\n",
    "model.compile(optimizer='adam',loss='binary_crossentropy',metrics=['AUC'])\n",
    "history = model.fit(x_train,y_train,batch_size=64,epochs=30,validation_split=0.2) "
   ]
  },
  {
   "cell_type": "code",
   "execution_count": 10,
   "metadata": {},
   "outputs": [
    {
     "data": {
      "image/png": "[encoded data removed]",
      "text/plain": [
       "<Figure size 432x288 with 1 Axes>"
      ]
     },
     "metadata": {
      "needs_background": "light"
     },
     "output_type": "display_data"
    }
   ],
   "source": [
    "import matplotlib.pyplot as plt\n",
    "\n",
    "def plot_metric(history, metric):\n",
    "    train_metrics = history.history[metric]\n",
    "    val_metrics = history.history['val_'+metric]\n",
    "    epochs = range(1, len(train_metrics) + 1)\n",
    "    plt.plot(epochs, train_metrics, 'bo--')\n",
    "    plt.plot(epochs, val_metrics, 'ro-')\n",
    "    plt.title('Training and validation '+ metric)\n",
    "    plt.xlabel(\"Epochs\")\n",
    "    plt.ylabel(metric)\n",
    "    plt.legend([\"train_\"+metric, 'val_'+metric])\n",
    "    plt.show()\n",
    "    \n",
    "plot_metric(history,\"loss\")  # 绘制损失"
   ]
  },
  {
   "cell_type": "code",
   "execution_count": 11,
   "metadata": {},
   "outputs": [
    {
     "data": {
      "image/png": "[encoded data removed]",
      "text/plain": [
       "<Figure size 432x288 with 1 Axes>"
      ]
     },
     "metadata": {
      "needs_background": "light"
     },
     "output_type": "display_data"
    }
   ],
   "source": [
    "plot_metric(history,\"AUC\")"
   ]
  },
  {
   "cell_type": "code",
   "execution_count": 12,
   "metadata": {},
   "outputs": [
    {
     "name": "stdout",
     "output_type": "stream",
     "text": [
      "179/179 [==============================] - 0s 67us/sample - loss: 0.5066 - AUC: 0.8318\n"
     ]
    },
    {
     "data": {
      "text/plain": [
       "[0.5065631410263104, 0.83175975]"
      ]
     },
     "execution_count": 12,
     "metadata": {},
     "output_type": "execute_result"
    }
   ],
   "source": [
    "model.evaluate(x = x_test,y = y_test)  # 在测试集上的效果"
   ]
  },
  {
   "cell_type": "markdown",
   "metadata": {},
   "source": [
    "五，使用模型"
   ]
  },
  {
   "cell_type": "code",
   "execution_count": 13,
   "metadata": {},
   "outputs": [
    {
     "data": {
      "text/plain": [
       "array([[0.25034007],\n",
       "       [0.3860927 ],\n",
       "       [0.34330177],\n",
       "       [0.7166542 ],\n",
       "       [0.55888927],\n",
       "       [0.45774898],\n",
       "       [0.11178341],\n",
       "       [0.75679666],\n",
       "       [0.6189334 ],\n",
       "       [0.21235451]], dtype=float32)"
      ]
     },
     "execution_count": 13,
     "metadata": {},
     "output_type": "execute_result"
    }
   ],
   "source": [
    "#预测概率\n",
    "model.predict(x_test[0:10])\n",
    "#model(tf.constant(x_test[0:10].values,dtype = tf.float32)) #等价写法"
   ]
  },
  {
   "cell_type": "code",
   "execution_count": 15,
   "metadata": {},
   "outputs": [
    {
     "data": {
      "text/plain": [
       "array([[0],\n",
       "       [0],\n",
       "       [0],\n",
       "       [1],\n",
       "       [1],\n",
       "       [0],\n",
       "       [0],\n",
       "       [1],\n",
       "       [1],\n",
       "       [0]])"
      ]
     },
     "execution_count": 15,
     "metadata": {},
     "output_type": "execute_result"
    }
   ],
   "source": [
    "#预测类别\n",
    "model.predict_classes(x_test[0:10])"
   ]
  },
  {
   "cell_type": "markdown",
   "metadata": {},
   "source": [
    "六，保存模型"
   ]
  },
  {
   "cell_type": "markdown",
   "metadata": {},
   "source": [
    "可以使用Keras方式保存模型，也可以使用TensorFlow原生方式保存。\n",
    "\n",
    "前者仅仅适合使用Python环境恢复模型，后者则可以跨平台进行模型部署。\n",
    "\n",
    "推荐使用后一种方式进行保存。"
   ]
  },
  {
   "cell_type": "code",
   "execution_count": 16,
   "metadata": {},
   "outputs": [
    {
     "name": "stdout",
     "output_type": "stream",
     "text": [
      "179/179 [==============================] - 0s 1ms/sample - loss: 0.5066 - AUC: 0.8318\n"
     ]
    },
    {
     "data": {
      "text/plain": [
       "[0.5065631410263104, 0.83175975]"
      ]
     },
     "execution_count": 16,
     "metadata": {},
     "output_type": "execute_result"
    }
   ],
   "source": [
    "# 1.1保存模型结构及权重\n",
    "\n",
    "model.save('./data/keras_model.h5')  \n",
    "\n",
    "del model  #删除现有模型\n",
    "\n",
    "# identical to the previous one\n",
    "model = models.load_model('./data/keras_model.h5')\n",
    "model.evaluate(x_test,y_test)"
   ]
  },
  {
   "cell_type": "code",
   "execution_count": 17,
   "metadata": {},
   "outputs": [],
   "source": [
    "# 1.2.1 保存模型结构\n",
    "json_str = model.to_json()\n",
    "\n",
    "# 1.2.2 恢复模型结构\n",
    "model_json = models.model_from_json(json_str)"
   ]
  },
  {
   "cell_type": "code",
   "execution_count": 18,
   "metadata": {},
   "outputs": [
    {
     "name": "stdout",
     "output_type": "stream",
     "text": [
      "179/179 [==============================] - 0s 1ms/sample - loss: 0.5066 - AUC: 0.8318\n"
     ]
    },
    {
     "data": {
      "text/plain": [
       "[0.5065631410263104, 0.83175975]"
      ]
     },
     "execution_count": 18,
     "metadata": {},
     "output_type": "execute_result"
    }
   ],
   "source": [
    "# 1.3.1 保存模型权重\n",
    "model.save_weights('./data/keras_model_weight.h5')\n",
    "\n",
    "# 1.3.2 恢复模型结构\n",
    "model_json = models.model_from_json(json_str)\n",
    "model_json.compile(\n",
    "        optimizer='adam',\n",
    "        loss='binary_crossentropy',\n",
    "        metrics=['AUC']\n",
    "    )\n",
    "\n",
    "# 1.3.3 加载权重\n",
    "model_json.load_weights('./data/keras_model_weight.h5')\n",
    "model_json.evaluate(x_test,y_test)"
   ]
  },
  {
   "cell_type": "code",
   "execution_count": 19,
   "metadata": {},
   "outputs": [],
   "source": [
    "# 2.1保存权重，该方式仅仅保存权重张量\n",
    "model.save_weights('./data/tf_model_weights.ckpt',save_format = \"tf\")"
   ]
  },
  {
   "cell_type": "code",
   "execution_count": 20,
   "metadata": {},
   "outputs": [
    {
     "name": "stdout",
     "output_type": "stream",
     "text": [
      "WARNING:tensorflow:From C:\\ProgramData\\Anaconda3\\envs\\test\\lib\\site-packages\\tensorflow_core\\python\\ops\\resource_variable_ops.py:1786: calling BaseResourceVariable.__init__ (from tensorflow.python.ops.resource_variable_ops) with constraint is deprecated and will be removed in a future version.\n",
      "Instructions for updating:\n",
      "If using Keras pass *_constraint arguments to layers.\n",
      "INFO:tensorflow:Assets written to: ./data/tf_model_savedmodel\\assets\n",
      "export saved model.\n",
      "179/179 [==============================] - 0s 1ms/sample - loss: 0.5066 - AUC: 0.8318\n"
     ]
    },
    {
     "data": {
      "text/plain": [
       "[0.5065629355734287, 0.83175975]"
      ]
     },
     "execution_count": 20,
     "metadata": {},
     "output_type": "execute_result"
    }
   ],
   "source": [
    "# 2.2保存模型结构与模型参数到文件,该方式保存的模型具有跨平台性便于部署\n",
    "\n",
    "model.save('./data/tf_model_savedmodel', save_format=\"tf\")\n",
    "print('export saved model.')\n",
    "\n",
    "model_loaded = tf.keras.models.load_model('./data/tf_model_savedmodel')\n",
    "model_loaded.evaluate(x_test,y_test)"
   ]
  },
  {
   "cell_type": "code",
   "execution_count": null,
   "metadata": {},
   "outputs": [],
   "source": []
  }
 ],
 "metadata": {
  "kernelspec": {
   "display_name": "Python 3",
   "language": "python",
   "name": "python3"
  },
  "language_info": {
   "codemirror_mode": {
    "name": "ipython",
    "version": 3
   },
   "file_extension": ".py",
   "mimetype": "text/x-python",
   "name": "python",
   "nbconvert_exporter": "python",
   "pygments_lexer": "ipython3",
   "version": "3.7.7"
  }
 },
 "nbformat": 4,
 "nbformat_minor": 4
}
