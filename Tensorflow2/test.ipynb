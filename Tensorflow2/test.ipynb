{
 "cells": [
  {
   "cell_type": "code",
   "execution_count": 1,
   "metadata": {},
   "outputs": [],
   "source": [
    "import tensorflow as tf\n",
    "import timeit"
   ]
  },
  {
   "cell_type": "code",
   "execution_count": 11,
   "metadata": {},
   "outputs": [
    {
     "name": "stdout",
     "output_type": "stream",
     "text": [
      "/job:localhost/replica:0/task:0/device:CPU:0 /job:localhost/replica:0/task:0/device:CPU:0\n",
      "/job:localhost/replica:0/task:0/device:GPU:0 /job:localhost/replica:0/task:0/device:GPU:0\n"
     ]
    }
   ],
   "source": [
    "n = 1000\n",
    "\n",
    "# 创建在CPU 上运算的2 个矩阵\n",
    "with tf.device('/cpu:0'):\n",
    "    cpu_a = tf.random.normal([n, n])\n",
    "    cpu_b = tf.random.normal([n, n])\n",
    "    print(cpu_a.device, cpu_b.device)\n",
    "\n",
    "# 创建使用GPU 运算的2 个矩阵\n",
    "with tf.device('/gpu:0'):\n",
    "    gpu_a = tf.random.normal([n, n])\n",
    "    gpu_b = tf.random.normal([n, n])\n",
    "    print(gpu_a.device, gpu_b.device)"
   ]
  },
  {
   "cell_type": "markdown",
   "metadata": {},
   "source": [
    "通过timeit.timeit()函数来测量2 个矩阵的运算时间："
   ]
  },
  {
   "cell_type": "code",
   "execution_count": 12,
   "metadata": {},
   "outputs": [],
   "source": [
    "def cpu_run():\n",
    "    with tf.device('/cpu:0'):\n",
    "        c = tf.matmul(cpu_a, cpu_b)\n",
    "    return c\n",
    "def gpu_run():\n",
    "    with tf.device('/gpu:0'):\n",
    "        c = tf.matmul(gpu_a, gpu_b)\n",
    "    return c"
   ]
  },
  {
   "cell_type": "code",
   "execution_count": 13,
   "metadata": {},
   "outputs": [
    {
     "name": "stdout",
     "output_type": "stream",
     "text": [
      "warmup: 0.05219919999998979 0.0014721000000008644\n",
      "run time: 0.04609659999999849 0.0006754000000057658\n"
     ]
    }
   ],
   "source": [
    "# 第一次计算需要热身，避免将初始化阶段时间结算在内\n",
    "cpu_time = timeit.timeit(cpu_run, number=10)\n",
    "gpu_time = timeit.timeit(gpu_run, number=10)\n",
    "print('warmup:', cpu_time, gpu_time)\n",
    "\n",
    "# 正式计算10 次，取平均时间\n",
    "cpu_time = timeit.timeit(cpu_run, number=10)\n",
    "gpu_time = timeit.timeit(gpu_run, number=10)\n",
    "print('run time:', cpu_time, gpu_time)"
   ]
  },
  {
   "cell_type": "markdown",
   "metadata": {},
   "source": [
    "自动梯度"
   ]
  },
  {
   "cell_type": "code",
   "execution_count": 14,
   "metadata": {},
   "outputs": [
    {
     "name": "stdout",
     "output_type": "stream",
     "text": [
      "tf.Tensor(10.0, shape=(), dtype=float32)\n"
     ]
    }
   ],
   "source": [
    "# 创建4 个张量\n",
    "a = tf.constant(1.)\n",
    "b = tf.constant(2.)\n",
    "c = tf.constant(3.)\n",
    "w = tf.constant(4.)\n",
    "with tf.GradientTape() as tape:# 构建梯度环境\n",
    "    tape.watch([w]) # 将w 加入梯度跟踪列表\n",
    "    # 构建计算过程\n",
    "    y = a * w**2 + b * w + c\n",
    "# 求导\n",
    "[dy_dw] = tape.gradient(y, [w])\n",
    "print(dy_dw) # 打印出导数"
   ]
  },
  {
   "cell_type": "code",
   "execution_count": null,
   "metadata": {},
   "outputs": [],
   "source": []
  }
 ],
 "metadata": {
  "kernelspec": {
   "display_name": "Python 3",
   "language": "python",
   "name": "python3"
  },
  "language_info": {
   "codemirror_mode": {
    "name": "ipython",
    "version": 3
   },
   "file_extension": ".py",
   "mimetype": "text/x-python",
   "name": "python",
   "nbconvert_exporter": "python",
   "pygments_lexer": "ipython3",
   "version": "3.7.7"
  }
 },
 "nbformat": 4,
 "nbformat_minor": 4
}
